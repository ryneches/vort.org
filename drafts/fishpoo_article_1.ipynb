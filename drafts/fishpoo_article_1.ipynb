{
 "cells": [
  {
   "cell_type": "code",
   "execution_count": null,
   "metadata": {},
   "outputs": [],
   "source": [
    "#ignore\n",
    "%pylab inline\n",
    "%load_ext rpy2.ipython\n",
    "%config InlineBackend.figure_format='retina'\n",
    "from SuchTree import SuchTree, SuchLinkedTrees\n",
    "import pandas\n",
    "import seaborn\n",
    "import matplotlib\n",
    "\n",
    "from rpy2 import robjects\n",
    "\n",
    "# tell R to be quiet\n",
    "import warnings\n",
    "from rpy2.rinterface import RRuntimeWarning\n",
    "warnings.filterwarnings( 'ignore', category=RRuntimeWarning )\n",
    "robjects.r( 'options( warn = -1 )' )\n",
    "robjects.r( 'sink( \"/dev/null\" )' )\n",
    "\n",
    "# load libraries into the R global context\n",
    "robjects.r( 'library(\"phytools\")' )\n",
    "robjects.r( 'library(\"igraph\")' )"
   ]
  },
  {
   "cell_type": "code",
   "execution_count": 5,
   "metadata": {},
   "outputs": [],
   "source": [
    "%%R\n",
    "#ignore\n",
    "\n",
    "tr1 <- read.tree( \"../../SuchTree/data/gopher-louse/gopher.tree\" )\n",
    "tr2 <- read.tree( \"../../SuchTree/data/gopher-louse/lice.tree\" )\n",
    "links <- read.csv( \"../../SuchTree/data/gopher-louse/links.csv\", row.names=1, stringsAsFactors = F )\n",
    "im <- graph_from_incidence_matrix( as.matrix( links ) )\n",
    "assoc <- as_edgelist( im )\n",
    "obj <- cophylo( tr1, tr2, assoc=assoc )\n",
    "svg( \"figures/gopher_louse_cophylo.svg\", width = 4, height = 4 )\n",
    "plot( obj )\n",
    "dev.off()"
   ]
  },
  {
   "cell_type": "code",
   "execution_count": null,
   "metadata": {},
   "outputs": [],
   "source": [
    "#ignore\n",
    "gl_host  = SuchTree( '../../SuchTree/data/gopher-louse/gopher.tree' )\n",
    "gl_guest = SuchTree( '../../SuchTree/data/gopher-louse/lice.tree' )\n",
    "gl_links = pandas.read_csv( '../../SuchTree/data/gopher-louse/links.csv', index_col=0 )\n",
    "\n",
    "gl_SLT = SuchLinkedTrees( gl_host, gl_guest, gl_links )\n",
    "\n",
    "gl_ld = gl_SLT.linked_distances()\n",
    "\n",
    "seaborn.jointplot( gl_ld['TreeA'], gl_ld['TreeB'], stat_func=None, kind='reg' )\n",
    "xlabel( 'Gopher' )\n",
    "ylabel( 'Louse' )\n",
    "xticks( [ 0.0, 0.1, 0.2, 0.3 ] )\n",
    "yticks( [ 0.0, 0.1, 0.2, 0.3 ] )\n",
    "xlim( -0.05, 0.32 )\n",
    "ylim( -0.05, 0.32 )\n",
    "\n",
    "tight_layout()\n",
    "savefig( 'figures/gopher_louse_correlation.svg', size=(4,4) )"
   ]
  },
  {
   "cell_type": "markdown",
   "metadata": {},
   "source": [
    "## What microbial ecologists can learn from parasites\n",
    "\n",
    "Biology has a major problem with charisma. Humans relate to some organisms more easily than others. Fuzzy creatures get more attention than scaly or slimy ones. Creatures with faces get more attention than creatures without. Animals get more attention than plans. By abundance, diversity, age or metabolic wattage, eukaryotes make up a small fraction of life on Earth, but they occupy almost all of our attention. The same phenomenon happens in ecology.\n",
    "\n",
    "Ecology is the study of how organisms interact with one another and with their environment. Some relationships are more charismatic than others, and those relationships dominate our attention. There are trophic strategies in myriad diversity, but predator-prey interactions make the best television. Parasites give us the creeps as much as they fascinate us. Mutualisms speak powerfully to aspirations and anxieties regarding our own societies. Disease has shaped and reshaped nations, and drives a large part of the moral imperative behind biological research. Nevertheless, the great majority of ecological relationships are none of the above, or cannot neatly fit into any one category.\n",
    "\n",
    "Charisma is one of many heuristics that help us identify things that are likely to be relevant to our own experience. Heuristics are useful, but usefulness should not be mistaken for accuracy. The fact that charisma cannot be separated from the observer means that it generalizes poorly. The fact that charisma is a heuristic measure of importance means that it can still be wrong more often than right. It is a form of bias, and distorts the model of reality we use to understand how things work.\n",
    "\n",
    "Biologists address charisma bias by applying other metrics for importance, and often look to ecology for parameters to include in these metrics. Importance is contextual, after all, and ecology is the study of the relationships that comprise the context in which organisms live. How, then, can ecology correct for its own charisma bias? Relationships can be categorized by their effects or their dynamics, but unless they exhibit a charismatic property -- often a symmetry in structure, a simplicity of concept or an analogy to human experience -- they can defy categorization or escape notice altogether. The symmetry of the Red Queen's Race, the straightforwardness of a predator's relationship with its prey, or the (projected) virtue of cooperation are conspicuous because they are unusual. Most relationships are too complicated or ambiguous to clearly exhibit them. They are not charismatic.\n",
    "\n",
    "<style>\n",
    ".rendered_html td.p { text-align: left !important; }\n",
    "</style>\n",
    "<table>\n",
    "<tr>\n",
    "    <td> <img src=\"figures/gopher_louse_cophylo.svg\" width=280x280> </td>\n",
    "    <td> <img src=\"figures/gopher_louse_correlation.svg\" width=280x280> </td>\n",
    "</tr>\n",
    "<tr>\n",
    "    <td colspan=\"2\">\n",
    "        <p><b>Figure 1 :</b> The relationship between pocket gophers and their chewing lice parasites has served as a benchmark case in the literature on coevolution since its appearance in Hafner <i>et al.</i> [Hafner 1994]. However, despite the strong case for coevolution from multiple lines of evidence, the agreement between the two trees (as measured by the correlation of pairwise patristic distances through the two trees [Hommola 2009]) is modest, with a Pierson's $r$ of 0.49. If one were to exclude the relationships between the outgroups as outliers, the correlation would collapse. Without other forms of evidence, the detection of such relationships is challenging.</p>\n",
    "    </td>\n",
    "</tr>\n",
    "</table>\n",
    "\n",
    "This is especially evident in microbial interactions, where high-throughput sequencing has made it possible to generate spectacular quantities of complex, nuanced and mostly inconclusive data. This is frustrating, but the scale of the problem represents a unique opportunity to address charisma bias in ecology.\n",
    "\n",
    "Correcting a bias always begins with the same task : find a way to collect data in a way this isn't subject to the bias. Microbiome surveys are vulnerable to a variety of technical biases (there is _always_ another bias), but sequencing machines are not impressed by charisma. Based on this data, it is possible to construct and test new metrics of importance, and to see which relationships merit further attention.\n",
    "\n",
    "Unfortunately, we do not have very many theoretical tools that address the question of how to categorize ecological relationship data gathered using an non-targeted, unsupervised process.\n",
    "\n",
    "Fortunately, ecology is not the only field that cares about the problem of detecting and assigning categories to complex relationships from non-targeted data. Vast resources have been devoted to this problem when it appears in the form of social networks of human beings. Technology companies want to know how to detect and identify categories within social networks so that they can sell more advertisements, and pursuit of this capability steers R&D budgets in the billions of dollars. If meaningful representations of microbiome data can be constructed in the same mathematical framework, we can divert some of those resources into our own projects. We can parasitize the tech companies.\n",
    "\n",
    "A successful parasite must have a strategy for invading its host. If we want to abscond with their shiny computational tools, we need a way to inject our data into them. In the next post, I will lay out my strategy for injecting microbiome data into off-the-shelf machine learning frameworks, and in the subsequent posts, I will try to give you a taste of why this is awesome.\n",
    "\n",
    "But, before we get into that, it needs to be said that there are downsides to these tools. Particularly, the intermediate steps in machine learning can be difficult to interpret intuitively, and machine learning stacks tend to both reflect and obfuscate the biases of their designers. Nevertheless, if the goal is to address charisma bias, placing {\\em all} of the available data into the same context is a good start. Machine learning does not eliminate bias; it formalizes it. This can cut two ways. If used uncritically, machine learning can atomize and dissolve the designer's bias into the mathematics in ways that can be very harmful. Or, it can provide a framework within which one can select, quantify, explore and hopefully understand one's own biases.\n",
    "\n",
    "Always compute responsibly."
   ]
  },
  {
   "cell_type": "markdown",
   "metadata": {},
   "source": [
    "\n",
    "\n",
    "### Further reading :\n",
    "\n",
    "* [**Role of the Gut Microbiome in Vertebrate Evolution**](http://msystems.asm.org/content/3/2/e00174-17), by Thomas J. Sharpton (doi:10.1128/mSystems.00174-17).\n",
    "* [**The microbiome beyond the horizon of ecological and evolutionary theory**](https://www.nature.com/articles/s41559-017-0340-2), by Britt Koskella, Lindsay J. Hall and C. Jessica E. Metcalf (doi:10.1038/s41559-017-0340-2)\n",
    "* [**Testing the Context and Extent of Host-Parasite Coevolution**](https://academic.oup.com/sysbio/article-abstract/28/3/299/1651575), by Daniel R. Brooks (doi:10.1093/sysbio/28.3.299)\n",
    "* [**Disparate rates of molecular evolution in cospeciating hosts and parasites**](http://science.sciencemag.org/content/265/5175/1087), by Hafner MS, Sudman PD, Villablanca FX, Spradling TA, Demastes JW, Nadler SA (doi:10.1126/science.8066445)"
   ]
  },
  {
   "cell_type": "code",
   "execution_count": null,
   "metadata": {},
   "outputs": [],
   "source": []
  }
 ],
 "metadata": {
  "kernelspec": {
   "display_name": "Python 3",
   "language": "python",
   "name": "python3"
  },
  "language_info": {
   "codemirror_mode": {
    "name": "ipython",
    "version": 3
   },
   "file_extension": ".py",
   "mimetype": "text/x-python",
   "name": "python",
   "nbconvert_exporter": "python",
   "pygments_lexer": "ipython3",
   "version": "3.6.3"
  }
 },
 "nbformat": 4,
 "nbformat_minor": 2
}
